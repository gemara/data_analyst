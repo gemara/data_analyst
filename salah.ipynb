import pandas as pd
import numpy as np
import io

url = ('https://raw.githubusercontent.com/gemara/data_analyst/main/penyakit_ginjal_kronik-1.csv')
ginjal = pd.read_csv(url)
ginjal_data = pd.read_csv(url)
ginjal
